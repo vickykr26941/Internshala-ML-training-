{
 "cells": [
  {
   "cell_type": "code",
   "execution_count": 8,
   "metadata": {},
   "outputs": [
    {
     "ename": "ValueError",
     "evalue": "invalid literal for int() with base 10: ''",
     "output_type": "error",
     "traceback": [
      "\u001b[1;31m---------------------------------------------------------------------------\u001b[0m",
      "\u001b[1;31mValueError\u001b[0m                                Traceback (most recent call last)",
      "\u001b[1;32m<ipython-input-8-c458722e1d55>\u001b[0m in \u001b[0;36m<module>\u001b[1;34m\u001b[0m\n\u001b[0;32m     45\u001b[0m \u001b[1;33m\u001b[0m\u001b[0m\n\u001b[0;32m     46\u001b[0m \u001b[1;33m\u001b[0m\u001b[0m\n\u001b[1;32m---> 47\u001b[1;33m \u001b[0mt\u001b[0m \u001b[1;33m=\u001b[0m \u001b[0mint\u001b[0m\u001b[1;33m(\u001b[0m\u001b[0mstdin\u001b[0m\u001b[1;33m.\u001b[0m\u001b[0mreadline\u001b[0m\u001b[1;33m(\u001b[0m\u001b[1;33m)\u001b[0m\u001b[1;33m)\u001b[0m\u001b[1;33m\u001b[0m\u001b[1;33m\u001b[0m\u001b[0m\n\u001b[0m\u001b[0;32m     48\u001b[0m \u001b[1;32mwhile\u001b[0m \u001b[0mt\u001b[0m\u001b[1;33m>\u001b[0m\u001b[1;36m0\u001b[0m\u001b[1;33m:\u001b[0m\u001b[1;33m\u001b[0m\u001b[1;33m\u001b[0m\u001b[0m\n\u001b[0;32m     49\u001b[0m     \u001b[0msolve\u001b[0m\u001b[1;33m(\u001b[0m\u001b[1;33m)\u001b[0m\u001b[1;33m\u001b[0m\u001b[1;33m\u001b[0m\u001b[0m\n",
      "\u001b[1;31mValueError\u001b[0m: invalid literal for int() with base 10: ''"
     ]
    }
   ],
   "source": [
    "from collections import defaultdict\n",
    "from sys import stdin,stdout\n",
    "import numpy as np \n",
    "\n",
    "N = 10**6 + 10\n",
    "def solve():\n",
    "    # input = io.BytesIO(os.read(0,os.fstat(0).st_size)).readline \n",
    "\n",
    "    n,q,m = map(int,stdin.readline().split())\n",
    "    v = np.array([int(x) for x in stdin.readline().split()])\n",
    "    b = np.array([0]*(N+1))\n",
    "    res = [0]*(m+1)\n",
    "    mp = defaultdict(int)\n",
    "\n",
    "    while q>0:\n",
    "        l,r = map(int,stdin.readline().split())\n",
    "        l,r = l-1,r-1\n",
    "        if v[l]>m: \n",
    "            continue\n",
    "        elif v[l]<=m and v[r]>m:\n",
    "            b[v[l]],b[m+1] = b[v[l]] + 1,b[m+1]-1\n",
    "        elif v[r]<=m:\n",
    "            b[v[l]],b[m+1] = b[v[l]]+1,b[m+1]-1\n",
    "            mp[(v[l],v[r])]+=1\n",
    "\n",
    "        q = q - 1\n",
    "\n",
    "    for x in mp:\n",
    "        k,p,l = x[0],x[1],mp[x]\n",
    "        b[p+k],b[p+2*k] = b[p+k]-l,b[p+2*k]+l\n",
    "        c = p+2*k\n",
    "        while(c+p<=m):\n",
    "            c+=p\n",
    "            b[c],b[c+k] = b[c]-l,b[c+k]+l\n",
    "            c+=k\n",
    "\n",
    "    for i in range(1,m+1):\n",
    "        b[i] = b[i-1] + b[i]\n",
    "\n",
    "    ans = 0 \n",
    "    for i in range(m+1):\n",
    "        ans = max(ans,int(b[i]))\n",
    "    stdout.write(str(ans))\n",
    "\n",
    "\n",
    "\n",
    "t = int(stdin.readline())\n",
    "while t>0:\n",
    "    solve()\n",
    "    t = t - 1 \n"
   ]
  },
  {
   "cell_type": "code",
   "execution_count": 4,
   "metadata": {},
   "outputs": [],
   "source": [
    "import numpy as np \n",
    "N = 10**6 + 1"
   ]
  },
  {
   "cell_type": "code",
   "execution_count": 5,
   "metadata": {},
   "outputs": [
    {
     "name": "stdout",
     "output_type": "stream",
     "text": [
      "[0 0 0 ... 0 0 0]\n"
     ]
    }
   ],
   "source": [
    "x = np.array([0]*(N+1))"
   ]
  }
 ],
 "metadata": {
  "kernelspec": {
   "display_name": "Python 3",
   "language": "python",
   "name": "python3"
  },
  "language_info": {
   "codemirror_mode": {
    "name": "ipython",
    "version": 3
   },
   "file_extension": ".py",
   "mimetype": "text/x-python",
   "name": "python",
   "nbconvert_exporter": "python",
   "pygments_lexer": "ipython3",
   "version": "3.8.5"
  }
 },
 "nbformat": 4,
 "nbformat_minor": 4
}
